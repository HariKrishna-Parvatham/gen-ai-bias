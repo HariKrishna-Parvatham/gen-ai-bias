{
 "cells": [
  {
   "cell_type": "code",
   "execution_count": 39,
   "id": "3c690573-3bde-4835-8364-8c46e99ab2e4",
   "metadata": {
    "tags": []
   },
   "outputs": [],
   "source": [
    "import torch\n",
    "from torch.utils.data import Dataset, DataLoader\n",
    "import torch.optim as optim\n",
    "from torchvision import transforms\n",
    "from PIL import Image\n",
    "import os\n",
    "from tqdm import tqdm\n",
    "import torch.nn as nn\n",
    "import matplotlib.pyplot as plt\n",
    "\n",
    "class CelebADataset(Dataset):\n",
    "    def __init__(self, folder_path, image_size=128, transform=None):\n",
    "        self.folder_path = folder_path\n",
    "        self.image_size = image_size\n",
    "        self.transform = transform\n",
    "        self.image_paths = sorted([os.path.join(folder_path, f) for f in os.listdir(folder_path) if f.endswith('.png') or f.endswith('.jpg')])\n",
    "        \n",
    "    def __len__(self):\n",
    "        return len(self.image_paths)\n",
    "    \n",
    "    def __getitem__(self, idx):\n",
    "        image_path = self.image_paths[idx]\n",
    "        image = Image.open(image_path).convert('RGB')\n",
    "        if self.transform:\n",
    "            image = self.transform(image)\n",
    "        return image\n",
    "\n",
    "# Image transformations (resize, normalize)\n",
    "transform = transforms.Compose([\n",
    "    transforms.Resize((128, 128)),\n",
    "    transforms.ToTensor(),\n",
    "    transforms.Normalize(mean=[0.5, 0.5, 0.5], std=[0.5, 0.5, 0.5])  # Normalize to [-1, 1]\n",
    "])"
   ]
  },
  {
   "cell_type": "code",
   "execution_count": 2,
   "id": "801ebae3-ad37-4b5e-86a4-a8df7cc5d8e8",
   "metadata": {},
   "outputs": [],
   "source": [
    "device = torch.device('cuda')\n",
    "num_cpus = torch.get_num_threads()\n",
    "\n",
    "folder_path = \"celebA_class_dataset/Smiling_Male_Young\"\n",
    "\n",
    "batch_size=256\n",
    "dataset = CelebADataset(folder_path=folder_path, transform=transform)\n",
    "dataloader = DataLoader(dataset, batch_size=batch_size, shuffle=True, num_workers=num_cpus)"
   ]
  },
  {
   "cell_type": "markdown",
   "id": "55c64511-86e3-48f3-bce6-a9a1cd7a4133",
   "metadata": {},
   "source": [
    "## VAE Model"
   ]
  },
  {
   "cell_type": "code",
   "execution_count": 3,
   "id": "45315946-112c-4b62-8c48-ea9f0e601e58",
   "metadata": {
    "tags": []
   },
   "outputs": [],
   "source": [
    "class VAE(nn.Module):\n",
    "    def __init__(self, latent_dim):\n",
    "        super(VAE, self).__init__()\n",
    "        self.latent_dim = latent_dim\n",
    "\n",
    "        # Encoder\n",
    "        self.encoder = nn.Sequential(\n",
    "            nn.Conv2d(3, 32, kernel_size=4, stride=2, padding=1),  # 128x128 -> 64x64\n",
    "            nn.ReLU(),\n",
    "            nn.Conv2d(32, 64, kernel_size=4, stride=2, padding=1),  # 64x64 -> 32x32\n",
    "            nn.ReLU(),\n",
    "            nn.Conv2d(64, 128, kernel_size=4, stride=2, padding=1),  # 32x32 -> 16x16\n",
    "            nn.ReLU(),\n",
    "            nn.Conv2d(128, 256, kernel_size=4, stride=2, padding=1),  # 16x16 -> 8x8\n",
    "            nn.ReLU(),\n",
    "            nn.Flatten()\n",
    "        )\n",
    "        \n",
    "        # Latent space (mean and variance for reparameterization)\n",
    "        self.fc_mu = nn.Linear(256 * 8 * 8, latent_dim)  # Flatten the features to latent dimension\n",
    "        self.fc_logvar = nn.Linear(256 * 8 * 8, latent_dim)\n",
    "        \n",
    "        # Decoder\n",
    "        self.decoder_fc = nn.Linear(latent_dim, 256 * 8 * 8)\n",
    "        self.decoder = nn.Sequential(\n",
    "            nn.Unflatten(1, (256, 8, 8)),  # Reshape the input to 256x8x8 for the decoder\n",
    "            nn.ConvTranspose2d(256, 128, kernel_size=4, stride=2, padding=1),  # 8x8 -> 16x16\n",
    "            nn.ReLU(),\n",
    "            nn.ConvTranspose2d(128, 64, kernel_size=4, stride=2, padding=1),  # 16x16 -> 32x32\n",
    "            nn.ReLU(),\n",
    "            nn.ConvTranspose2d(64, 32, kernel_size=4, stride=2, padding=1),   # 32x32 -> 64x64\n",
    "            nn.ReLU(),\n",
    "            nn.ConvTranspose2d(32, 3, kernel_size=4, stride=2, padding=1),    # 64x64 -> 128x128\n",
    "            nn.Tanh()  # To map the output to [-1, 1]\n",
    "        )\n",
    "        \n",
    "    def encode(self, x):\n",
    "        x = self.encoder(x)\n",
    "        mu = self.fc_mu(x)\n",
    "        logvar = self.fc_logvar(x)\n",
    "        return mu, logvar\n",
    "    \n",
    "    def reparameterize(self, mu, logvar):\n",
    "        std = torch.exp(0.5 * logvar)\n",
    "        eps = torch.randn_like(std)\n",
    "        z = mu + eps * std\n",
    "        return z\n",
    "    \n",
    "    def decode(self, z):\n",
    "        z = self.decoder_fc(z)\n",
    "        return self.decoder(z)\n",
    "    \n",
    "    def forward(self, x):\n",
    "        mu, logvar = self.encode(x)\n",
    "        z = self.reparameterize(mu, logvar)\n",
    "        x_reconstructed = self.decode(z)\n",
    "        return x_reconstructed, mu, logvar"
   ]
  },
  {
   "cell_type": "markdown",
   "id": "5fa5c04d-3746-4ad4-ad13-036a9b827231",
   "metadata": {},
   "source": [
    "## VAE model initialization"
   ]
  },
  {
   "cell_type": "code",
   "execution_count": 4,
   "id": "44382635-3821-4d7b-b038-1ccf09e03c8d",
   "metadata": {
    "tags": []
   },
   "outputs": [],
   "source": [
    "latent_dim = 2048\n",
    "model = VAE(latent_dim=latent_dim).to(device)"
   ]
  },
  {
   "cell_type": "code",
   "execution_count": 5,
   "id": "84803907-c3da-4a6e-bb28-7155d88d98a7",
   "metadata": {
    "tags": []
   },
   "outputs": [],
   "source": [
    "def loss_function(reconstructed_x, x, mu, logvar, lambda_kl=1.0):\n",
    "    BCE = nn.functional.mse_loss(reconstructed_x, x, reduction='sum')\n",
    "    KL_divergence = -0.5 * torch.sum(1 + logvar - mu.pow(2) - logvar.exp())\n",
    "    return BCE + lambda_kl * KL_divergence\n",
    "\n",
    "learning_rate = 1e-4\n",
    "optimizer = optim.Adam(model.parameters(), lr=learning_rate)\n",
    "\n",
    "def train(dataloader, model, optimizer, epochs=10, lambda_kl=1.0):\n",
    "    model.train()\n",
    "    for epoch in range(epochs):\n",
    "        running_loss = 0.0\n",
    "        with tqdm(dataloader, desc=f'Epoch {epoch+1}/{epochs}', unit='batch') as pbar:\n",
    "            for batch_idx, data in enumerate(pbar):\n",
    "                data = data.to(device)\n",
    "                optimizer.zero_grad()\n",
    "                reconstructed_x, mu, logvar = model(data)\n",
    "                loss = loss_function(reconstructed_x, data, mu, logvar, lambda_kl)\n",
    "                loss.backward()\n",
    "                optimizer.step()\n",
    "                \n",
    "                running_loss += loss.item()\n",
    "                pbar.set_postfix(loss=running_loss / (batch_idx + 1))\n",
    "\n",
    "        avg_loss = running_loss / len(dataloader.dataset)\n",
    "        print(f'Epoch [{epoch+1}/{epochs}], Loss: {avg_loss:.4f}')"
   ]
  },
  {
   "cell_type": "code",
   "execution_count": 10,
   "id": "e8ff612a-9fd1-445c-8cdb-b4c8149bc6a5",
   "metadata": {
    "tags": []
   },
   "outputs": [
    {
     "name": "stderr",
     "output_type": "stream",
     "text": [
      "Epoch 1/200: 100%|██████████| 80/80 [00:21<00:00,  3.65batch/s, loss=3.48e+6]\n"
     ]
    },
    {
     "name": "stdout",
     "output_type": "stream",
     "text": [
      "Epoch [1/200], Loss: 13616.0492\n"
     ]
    },
    {
     "name": "stderr",
     "output_type": "stream",
     "text": [
      "Epoch 2/200: 100%|██████████| 80/80 [00:05<00:00, 14.05batch/s, loss=1.93e+6]\n"
     ]
    },
    {
     "name": "stdout",
     "output_type": "stream",
     "text": [
      "Epoch [2/200], Loss: 7553.7633\n"
     ]
    },
    {
     "name": "stderr",
     "output_type": "stream",
     "text": [
      "Epoch 3/200: 100%|██████████| 80/80 [00:05<00:00, 14.33batch/s, loss=1.24e+6]\n"
     ]
    },
    {
     "name": "stdout",
     "output_type": "stream",
     "text": [
      "Epoch [3/200], Loss: 4849.8141\n"
     ]
    },
    {
     "name": "stderr",
     "output_type": "stream",
     "text": [
      "Epoch 4/200: 100%|██████████| 80/80 [00:06<00:00, 13.21batch/s, loss=1.05e+6]\n"
     ]
    },
    {
     "name": "stdout",
     "output_type": "stream",
     "text": [
      "Epoch [4/200], Loss: 4112.5672\n"
     ]
    },
    {
     "name": "stderr",
     "output_type": "stream",
     "text": [
      "Epoch 5/200: 100%|██████████| 80/80 [00:05<00:00, 14.11batch/s, loss=9.43e+5]\n"
     ]
    },
    {
     "name": "stdout",
     "output_type": "stream",
     "text": [
      "Epoch [5/200], Loss: 3684.8496\n"
     ]
    },
    {
     "name": "stderr",
     "output_type": "stream",
     "text": [
      "Epoch 6/200: 100%|██████████| 80/80 [00:06<00:00, 12.93batch/s, loss=8.64e+5]\n"
     ]
    },
    {
     "name": "stdout",
     "output_type": "stream",
     "text": [
      "Epoch [6/200], Loss: 3376.3097\n"
     ]
    },
    {
     "name": "stderr",
     "output_type": "stream",
     "text": [
      "Epoch 7/200: 100%|██████████| 80/80 [00:06<00:00, 12.37batch/s, loss=8.02e+5]\n"
     ]
    },
    {
     "name": "stdout",
     "output_type": "stream",
     "text": [
      "Epoch [7/200], Loss: 3132.7322\n"
     ]
    },
    {
     "name": "stderr",
     "output_type": "stream",
     "text": [
      "Epoch 8/200: 100%|██████████| 80/80 [00:06<00:00, 13.15batch/s, loss=7.6e+5] \n"
     ]
    },
    {
     "name": "stdout",
     "output_type": "stream",
     "text": [
      "Epoch [8/200], Loss: 2970.5141\n"
     ]
    },
    {
     "name": "stderr",
     "output_type": "stream",
     "text": [
      "Epoch 9/200: 100%|██████████| 80/80 [00:05<00:00, 13.46batch/s, loss=7.23e+5]\n"
     ]
    },
    {
     "name": "stdout",
     "output_type": "stream",
     "text": [
      "Epoch [9/200], Loss: 2823.4791\n"
     ]
    },
    {
     "name": "stderr",
     "output_type": "stream",
     "text": [
      "Epoch 10/200: 100%|██████████| 80/80 [00:06<00:00, 12.76batch/s, loss=6.94e+5]\n"
     ]
    },
    {
     "name": "stdout",
     "output_type": "stream",
     "text": [
      "Epoch [10/200], Loss: 2712.1069\n"
     ]
    },
    {
     "name": "stderr",
     "output_type": "stream",
     "text": [
      "Epoch 11/200: 100%|██████████| 80/80 [00:06<00:00, 12.65batch/s, loss=6.66e+5]\n"
     ]
    },
    {
     "name": "stdout",
     "output_type": "stream",
     "text": [
      "Epoch [11/200], Loss: 2603.1826\n"
     ]
    },
    {
     "name": "stderr",
     "output_type": "stream",
     "text": [
      "Epoch 12/200: 100%|██████████| 80/80 [00:06<00:00, 12.36batch/s, loss=6.44e+5]\n"
     ]
    },
    {
     "name": "stdout",
     "output_type": "stream",
     "text": [
      "Epoch [12/200], Loss: 2518.2517\n"
     ]
    },
    {
     "name": "stderr",
     "output_type": "stream",
     "text": [
      "Epoch 13/200: 100%|██████████| 80/80 [00:06<00:00, 12.51batch/s, loss=6.23e+5]\n"
     ]
    },
    {
     "name": "stdout",
     "output_type": "stream",
     "text": [
      "Epoch [13/200], Loss: 2433.7797\n"
     ]
    },
    {
     "name": "stderr",
     "output_type": "stream",
     "text": [
      "Epoch 14/200: 100%|██████████| 80/80 [00:05<00:00, 13.35batch/s, loss=6.04e+5]\n"
     ]
    },
    {
     "name": "stdout",
     "output_type": "stream",
     "text": [
      "Epoch [14/200], Loss: 2358.3830\n"
     ]
    },
    {
     "name": "stderr",
     "output_type": "stream",
     "text": [
      "Epoch 15/200: 100%|██████████| 80/80 [00:05<00:00, 13.42batch/s, loss=5.85e+5]\n"
     ]
    },
    {
     "name": "stdout",
     "output_type": "stream",
     "text": [
      "Epoch [15/200], Loss: 2286.4474\n"
     ]
    },
    {
     "name": "stderr",
     "output_type": "stream",
     "text": [
      "Epoch 16/200: 100%|██████████| 80/80 [00:06<00:00, 12.81batch/s, loss=5.69e+5]\n"
     ]
    },
    {
     "name": "stdout",
     "output_type": "stream",
     "text": [
      "Epoch [16/200], Loss: 2224.9520\n"
     ]
    },
    {
     "name": "stderr",
     "output_type": "stream",
     "text": [
      "Epoch 17/200: 100%|██████████| 80/80 [00:05<00:00, 13.94batch/s, loss=5.55e+5]\n"
     ]
    },
    {
     "name": "stdout",
     "output_type": "stream",
     "text": [
      "Epoch [17/200], Loss: 2168.9958\n"
     ]
    },
    {
     "name": "stderr",
     "output_type": "stream",
     "text": [
      "Epoch 18/200: 100%|██████████| 80/80 [00:06<00:00, 12.71batch/s, loss=5.42e+5]\n"
     ]
    },
    {
     "name": "stdout",
     "output_type": "stream",
     "text": [
      "Epoch [18/200], Loss: 2118.6308\n"
     ]
    },
    {
     "name": "stderr",
     "output_type": "stream",
     "text": [
      "Epoch 19/200: 100%|██████████| 80/80 [00:05<00:00, 13.47batch/s, loss=5.29e+5]\n"
     ]
    },
    {
     "name": "stdout",
     "output_type": "stream",
     "text": [
      "Epoch [19/200], Loss: 2066.4316\n"
     ]
    },
    {
     "name": "stderr",
     "output_type": "stream",
     "text": [
      "Epoch 20/200: 100%|██████████| 80/80 [00:05<00:00, 13.52batch/s, loss=5.17e+5]\n"
     ]
    },
    {
     "name": "stdout",
     "output_type": "stream",
     "text": [
      "Epoch [20/200], Loss: 2019.6162\n"
     ]
    },
    {
     "name": "stderr",
     "output_type": "stream",
     "text": [
      "Epoch 21/200: 100%|██████████| 80/80 [00:06<00:00, 11.70batch/s, loss=5.07e+5]\n"
     ]
    },
    {
     "name": "stdout",
     "output_type": "stream",
     "text": [
      "Epoch [21/200], Loss: 1979.5931\n"
     ]
    },
    {
     "name": "stderr",
     "output_type": "stream",
     "text": [
      "Epoch 22/200: 100%|██████████| 80/80 [00:05<00:00, 13.47batch/s, loss=4.95e+5]\n"
     ]
    },
    {
     "name": "stdout",
     "output_type": "stream",
     "text": [
      "Epoch [22/200], Loss: 1936.1190\n"
     ]
    },
    {
     "name": "stderr",
     "output_type": "stream",
     "text": [
      "Epoch 23/200: 100%|██████████| 80/80 [00:05<00:00, 13.81batch/s, loss=4.86e+5]\n"
     ]
    },
    {
     "name": "stdout",
     "output_type": "stream",
     "text": [
      "Epoch [23/200], Loss: 1901.1185\n"
     ]
    },
    {
     "name": "stderr",
     "output_type": "stream",
     "text": [
      "Epoch 24/200: 100%|██████████| 80/80 [00:05<00:00, 14.07batch/s, loss=4.76e+5]\n"
     ]
    },
    {
     "name": "stdout",
     "output_type": "stream",
     "text": [
      "Epoch [24/200], Loss: 1861.3165\n"
     ]
    },
    {
     "name": "stderr",
     "output_type": "stream",
     "text": [
      "Epoch 25/200: 100%|██████████| 80/80 [00:06<00:00, 13.14batch/s, loss=4.7e+5] \n"
     ]
    },
    {
     "name": "stdout",
     "output_type": "stream",
     "text": [
      "Epoch [25/200], Loss: 1835.5759\n"
     ]
    },
    {
     "name": "stderr",
     "output_type": "stream",
     "text": [
      "Epoch 26/200: 100%|██████████| 80/80 [00:06<00:00, 12.91batch/s, loss=4.6e+5] \n"
     ]
    },
    {
     "name": "stdout",
     "output_type": "stream",
     "text": [
      "Epoch [26/200], Loss: 1798.5103\n"
     ]
    },
    {
     "name": "stderr",
     "output_type": "stream",
     "text": [
      "Epoch 27/200: 100%|██████████| 80/80 [00:05<00:00, 13.73batch/s, loss=4.53e+5]\n"
     ]
    },
    {
     "name": "stdout",
     "output_type": "stream",
     "text": [
      "Epoch [27/200], Loss: 1770.5028\n"
     ]
    },
    {
     "name": "stderr",
     "output_type": "stream",
     "text": [
      "Epoch 28/200: 100%|██████████| 80/80 [00:06<00:00, 12.99batch/s, loss=4.46e+5]\n"
     ]
    },
    {
     "name": "stdout",
     "output_type": "stream",
     "text": [
      "Epoch [28/200], Loss: 1742.8438\n"
     ]
    },
    {
     "name": "stderr",
     "output_type": "stream",
     "text": [
      "Epoch 29/200: 100%|██████████| 80/80 [00:06<00:00, 13.13batch/s, loss=4.4e+5] \n"
     ]
    },
    {
     "name": "stdout",
     "output_type": "stream",
     "text": [
      "Epoch [29/200], Loss: 1718.1610\n"
     ]
    },
    {
     "name": "stderr",
     "output_type": "stream",
     "text": [
      "Epoch 30/200: 100%|██████████| 80/80 [00:06<00:00, 11.97batch/s, loss=4.33e+5]\n"
     ]
    },
    {
     "name": "stdout",
     "output_type": "stream",
     "text": [
      "Epoch [30/200], Loss: 1691.5453\n"
     ]
    },
    {
     "name": "stderr",
     "output_type": "stream",
     "text": [
      "Epoch 31/200: 100%|██████████| 80/80 [00:05<00:00, 14.29batch/s, loss=4.27e+5]\n"
     ]
    },
    {
     "name": "stdout",
     "output_type": "stream",
     "text": [
      "Epoch [31/200], Loss: 1667.1872\n"
     ]
    },
    {
     "name": "stderr",
     "output_type": "stream",
     "text": [
      "Epoch 32/200: 100%|██████████| 80/80 [00:06<00:00, 13.06batch/s, loss=4.2e+5] \n"
     ]
    },
    {
     "name": "stdout",
     "output_type": "stream",
     "text": [
      "Epoch [32/200], Loss: 1640.1072\n"
     ]
    },
    {
     "name": "stderr",
     "output_type": "stream",
     "text": [
      "Epoch 33/200: 100%|██████████| 80/80 [00:05<00:00, 13.98batch/s, loss=4.14e+5]\n"
     ]
    },
    {
     "name": "stdout",
     "output_type": "stream",
     "text": [
      "Epoch [33/200], Loss: 1619.3354\n"
     ]
    },
    {
     "name": "stderr",
     "output_type": "stream",
     "text": [
      "Epoch 34/200: 100%|██████████| 80/80 [00:06<00:00, 12.14batch/s, loss=4.08e+5]\n"
     ]
    },
    {
     "name": "stdout",
     "output_type": "stream",
     "text": [
      "Epoch [34/200], Loss: 1594.9297\n"
     ]
    },
    {
     "name": "stderr",
     "output_type": "stream",
     "text": [
      "Epoch 35/200: 100%|██████████| 80/80 [00:06<00:00, 12.76batch/s, loss=4.02e+5]\n"
     ]
    },
    {
     "name": "stdout",
     "output_type": "stream",
     "text": [
      "Epoch [35/200], Loss: 1572.5855\n"
     ]
    },
    {
     "name": "stderr",
     "output_type": "stream",
     "text": [
      "Epoch 36/200: 100%|██████████| 80/80 [00:06<00:00, 13.33batch/s, loss=3.96e+5]\n"
     ]
    },
    {
     "name": "stdout",
     "output_type": "stream",
     "text": [
      "Epoch [36/200], Loss: 1546.8032\n"
     ]
    },
    {
     "name": "stderr",
     "output_type": "stream",
     "text": [
      "Epoch 37/200: 100%|██████████| 80/80 [00:06<00:00, 13.07batch/s, loss=3.91e+5]\n"
     ]
    },
    {
     "name": "stdout",
     "output_type": "stream",
     "text": [
      "Epoch [37/200], Loss: 1526.6164\n"
     ]
    },
    {
     "name": "stderr",
     "output_type": "stream",
     "text": [
      "Epoch 38/200: 100%|██████████| 80/80 [00:06<00:00, 12.57batch/s, loss=3.88e+5]\n"
     ]
    },
    {
     "name": "stdout",
     "output_type": "stream",
     "text": [
      "Epoch [38/200], Loss: 1516.3082\n"
     ]
    },
    {
     "name": "stderr",
     "output_type": "stream",
     "text": [
      "Epoch 39/200: 100%|██████████| 80/80 [00:06<00:00, 13.17batch/s, loss=3.82e+5]\n"
     ]
    },
    {
     "name": "stdout",
     "output_type": "stream",
     "text": [
      "Epoch [39/200], Loss: 1490.8278\n"
     ]
    },
    {
     "name": "stderr",
     "output_type": "stream",
     "text": [
      "Epoch 40/200: 100%|██████████| 80/80 [00:06<00:00, 12.86batch/s, loss=3.77e+5]\n"
     ]
    },
    {
     "name": "stdout",
     "output_type": "stream",
     "text": [
      "Epoch [40/200], Loss: 1474.8251\n"
     ]
    },
    {
     "name": "stderr",
     "output_type": "stream",
     "text": [
      "Epoch 41/200: 100%|██████████| 80/80 [00:05<00:00, 13.37batch/s, loss=3.73e+5]\n"
     ]
    },
    {
     "name": "stdout",
     "output_type": "stream",
     "text": [
      "Epoch [41/200], Loss: 1459.1059\n"
     ]
    },
    {
     "name": "stderr",
     "output_type": "stream",
     "text": [
      "Epoch 42/200: 100%|██████████| 80/80 [00:05<00:00, 13.43batch/s, loss=3.69e+5]\n"
     ]
    },
    {
     "name": "stdout",
     "output_type": "stream",
     "text": [
      "Epoch [42/200], Loss: 1441.8523\n"
     ]
    },
    {
     "name": "stderr",
     "output_type": "stream",
     "text": [
      "Epoch 43/200: 100%|██████████| 80/80 [00:05<00:00, 14.21batch/s, loss=3.66e+5]\n"
     ]
    },
    {
     "name": "stdout",
     "output_type": "stream",
     "text": [
      "Epoch [43/200], Loss: 1429.3788\n"
     ]
    },
    {
     "name": "stderr",
     "output_type": "stream",
     "text": [
      "Epoch 44/200: 100%|██████████| 80/80 [00:05<00:00, 13.37batch/s, loss=3.61e+5]\n"
     ]
    },
    {
     "name": "stdout",
     "output_type": "stream",
     "text": [
      "Epoch [44/200], Loss: 1412.2742\n"
     ]
    },
    {
     "name": "stderr",
     "output_type": "stream",
     "text": [
      "Epoch 45/200: 100%|██████████| 80/80 [00:05<00:00, 13.60batch/s, loss=3.58e+5]\n"
     ]
    },
    {
     "name": "stdout",
     "output_type": "stream",
     "text": [
      "Epoch [45/200], Loss: 1399.1049\n"
     ]
    },
    {
     "name": "stderr",
     "output_type": "stream",
     "text": [
      "Epoch 46/200: 100%|██████████| 80/80 [00:06<00:00, 12.90batch/s, loss=3.54e+5]\n"
     ]
    },
    {
     "name": "stdout",
     "output_type": "stream",
     "text": [
      "Epoch [46/200], Loss: 1383.7285\n"
     ]
    },
    {
     "name": "stderr",
     "output_type": "stream",
     "text": [
      "Epoch 47/200: 100%|██████████| 80/80 [00:05<00:00, 13.71batch/s, loss=3.51e+5]\n"
     ]
    },
    {
     "name": "stdout",
     "output_type": "stream",
     "text": [
      "Epoch [47/200], Loss: 1372.9173\n"
     ]
    },
    {
     "name": "stderr",
     "output_type": "stream",
     "text": [
      "Epoch 48/200: 100%|██████████| 80/80 [00:06<00:00, 12.94batch/s, loss=3.49e+5]\n"
     ]
    },
    {
     "name": "stdout",
     "output_type": "stream",
     "text": [
      "Epoch [48/200], Loss: 1362.2347\n"
     ]
    },
    {
     "name": "stderr",
     "output_type": "stream",
     "text": [
      "Epoch 49/200: 100%|██████████| 80/80 [00:05<00:00, 13.87batch/s, loss=3.46e+5]\n"
     ]
    },
    {
     "name": "stdout",
     "output_type": "stream",
     "text": [
      "Epoch [49/200], Loss: 1352.8410\n"
     ]
    },
    {
     "name": "stderr",
     "output_type": "stream",
     "text": [
      "Epoch 50/200: 100%|██████████| 80/80 [00:05<00:00, 14.31batch/s, loss=3.42e+5]\n"
     ]
    },
    {
     "name": "stdout",
     "output_type": "stream",
     "text": [
      "Epoch [50/200], Loss: 1336.6440\n"
     ]
    },
    {
     "name": "stderr",
     "output_type": "stream",
     "text": [
      "Epoch 51/200: 100%|██████████| 80/80 [00:05<00:00, 13.93batch/s, loss=3.4e+5] \n"
     ]
    },
    {
     "name": "stdout",
     "output_type": "stream",
     "text": [
      "Epoch [51/200], Loss: 1329.7501\n"
     ]
    },
    {
     "name": "stderr",
     "output_type": "stream",
     "text": [
      "Epoch 52/200: 100%|██████████| 80/80 [00:05<00:00, 13.92batch/s, loss=3.37e+5]\n"
     ]
    },
    {
     "name": "stdout",
     "output_type": "stream",
     "text": [
      "Epoch [52/200], Loss: 1316.6054\n"
     ]
    },
    {
     "name": "stderr",
     "output_type": "stream",
     "text": [
      "Epoch 53/200: 100%|██████████| 80/80 [00:05<00:00, 14.15batch/s, loss=3.36e+5]\n"
     ]
    },
    {
     "name": "stdout",
     "output_type": "stream",
     "text": [
      "Epoch [53/200], Loss: 1311.9380\n"
     ]
    },
    {
     "name": "stderr",
     "output_type": "stream",
     "text": [
      "Epoch 54/200: 100%|██████████| 80/80 [00:05<00:00, 13.93batch/s, loss=3.32e+5]\n"
     ]
    },
    {
     "name": "stdout",
     "output_type": "stream",
     "text": [
      "Epoch [54/200], Loss: 1297.3233\n"
     ]
    },
    {
     "name": "stderr",
     "output_type": "stream",
     "text": [
      "Epoch 55/200: 100%|██████████| 80/80 [00:05<00:00, 14.08batch/s, loss=3.3e+5] \n"
     ]
    },
    {
     "name": "stdout",
     "output_type": "stream",
     "text": [
      "Epoch [55/200], Loss: 1289.5096\n"
     ]
    },
    {
     "name": "stderr",
     "output_type": "stream",
     "text": [
      "Epoch 56/200: 100%|██████████| 80/80 [00:05<00:00, 14.12batch/s, loss=3.28e+5]\n"
     ]
    },
    {
     "name": "stdout",
     "output_type": "stream",
     "text": [
      "Epoch [56/200], Loss: 1282.9244\n"
     ]
    },
    {
     "name": "stderr",
     "output_type": "stream",
     "text": [
      "Epoch 57/200: 100%|██████████| 80/80 [00:06<00:00, 12.95batch/s, loss=3.25e+5]\n"
     ]
    },
    {
     "name": "stdout",
     "output_type": "stream",
     "text": [
      "Epoch [57/200], Loss: 1271.0027\n"
     ]
    },
    {
     "name": "stderr",
     "output_type": "stream",
     "text": [
      "Epoch 58/200: 100%|██████████| 80/80 [00:05<00:00, 13.35batch/s, loss=3.24e+5]\n"
     ]
    },
    {
     "name": "stdout",
     "output_type": "stream",
     "text": [
      "Epoch [58/200], Loss: 1264.5188\n"
     ]
    },
    {
     "name": "stderr",
     "output_type": "stream",
     "text": [
      "Epoch 59/200: 100%|██████████| 80/80 [00:05<00:00, 14.47batch/s, loss=3.21e+5]\n"
     ]
    },
    {
     "name": "stdout",
     "output_type": "stream",
     "text": [
      "Epoch [59/200], Loss: 1253.9084\n"
     ]
    },
    {
     "name": "stderr",
     "output_type": "stream",
     "text": [
      "Epoch 60/200: 100%|██████████| 80/80 [00:05<00:00, 13.38batch/s, loss=3.19e+5]\n"
     ]
    },
    {
     "name": "stdout",
     "output_type": "stream",
     "text": [
      "Epoch [60/200], Loss: 1246.6162\n"
     ]
    },
    {
     "name": "stderr",
     "output_type": "stream",
     "text": [
      "Epoch 61/200: 100%|██████████| 80/80 [00:05<00:00, 13.52batch/s, loss=3.18e+5]\n"
     ]
    },
    {
     "name": "stdout",
     "output_type": "stream",
     "text": [
      "Epoch [61/200], Loss: 1244.5162\n"
     ]
    },
    {
     "name": "stderr",
     "output_type": "stream",
     "text": [
      "Epoch 62/200: 100%|██████████| 80/80 [00:05<00:00, 13.41batch/s, loss=3.15e+5]\n"
     ]
    },
    {
     "name": "stdout",
     "output_type": "stream",
     "text": [
      "Epoch [62/200], Loss: 1231.3009\n"
     ]
    },
    {
     "name": "stderr",
     "output_type": "stream",
     "text": [
      "Epoch 63/200: 100%|██████████| 80/80 [00:05<00:00, 14.13batch/s, loss=3.13e+5]\n"
     ]
    },
    {
     "name": "stdout",
     "output_type": "stream",
     "text": [
      "Epoch [63/200], Loss: 1224.9204\n"
     ]
    },
    {
     "name": "stderr",
     "output_type": "stream",
     "text": [
      "Epoch 64/200: 100%|██████████| 80/80 [00:05<00:00, 14.09batch/s, loss=3.12e+5]\n"
     ]
    },
    {
     "name": "stdout",
     "output_type": "stream",
     "text": [
      "Epoch [64/200], Loss: 1218.3539\n"
     ]
    },
    {
     "name": "stderr",
     "output_type": "stream",
     "text": [
      "Epoch 65/200: 100%|██████████| 80/80 [00:05<00:00, 14.34batch/s, loss=3.1e+5] \n"
     ]
    },
    {
     "name": "stdout",
     "output_type": "stream",
     "text": [
      "Epoch [65/200], Loss: 1210.9272\n"
     ]
    },
    {
     "name": "stderr",
     "output_type": "stream",
     "text": [
      "Epoch 66/200: 100%|██████████| 80/80 [00:05<00:00, 14.36batch/s, loss=3.08e+5]\n"
     ]
    },
    {
     "name": "stdout",
     "output_type": "stream",
     "text": [
      "Epoch [66/200], Loss: 1204.7233\n"
     ]
    },
    {
     "name": "stderr",
     "output_type": "stream",
     "text": [
      "Epoch 67/200: 100%|██████████| 80/80 [00:05<00:00, 13.49batch/s, loss=3.07e+5]\n"
     ]
    },
    {
     "name": "stdout",
     "output_type": "stream",
     "text": [
      "Epoch [67/200], Loss: 1198.4330\n"
     ]
    },
    {
     "name": "stderr",
     "output_type": "stream",
     "text": [
      "Epoch 68/200: 100%|██████████| 80/80 [00:05<00:00, 14.22batch/s, loss=3.05e+5]\n"
     ]
    },
    {
     "name": "stdout",
     "output_type": "stream",
     "text": [
      "Epoch [68/200], Loss: 1191.1773\n"
     ]
    },
    {
     "name": "stderr",
     "output_type": "stream",
     "text": [
      "Epoch 69/200: 100%|██████████| 80/80 [00:05<00:00, 13.94batch/s, loss=3.03e+5]\n"
     ]
    },
    {
     "name": "stdout",
     "output_type": "stream",
     "text": [
      "Epoch [69/200], Loss: 1185.1260\n"
     ]
    },
    {
     "name": "stderr",
     "output_type": "stream",
     "text": [
      "Epoch 70/200: 100%|██████████| 80/80 [00:05<00:00, 13.77batch/s, loss=3.02e+5]\n"
     ]
    },
    {
     "name": "stdout",
     "output_type": "stream",
     "text": [
      "Epoch [70/200], Loss: 1179.3143\n"
     ]
    },
    {
     "name": "stderr",
     "output_type": "stream",
     "text": [
      "Epoch 71/200: 100%|██████████| 80/80 [00:05<00:00, 14.17batch/s, loss=2.99e+5]\n"
     ]
    },
    {
     "name": "stdout",
     "output_type": "stream",
     "text": [
      "Epoch [71/200], Loss: 1170.2930\n"
     ]
    },
    {
     "name": "stderr",
     "output_type": "stream",
     "text": [
      "Epoch 72/200: 100%|██████████| 80/80 [00:05<00:00, 14.06batch/s, loss=3e+5]   \n"
     ]
    },
    {
     "name": "stdout",
     "output_type": "stream",
     "text": [
      "Epoch [72/200], Loss: 1170.5287\n"
     ]
    },
    {
     "name": "stderr",
     "output_type": "stream",
     "text": [
      "Epoch 73/200: 100%|██████████| 80/80 [00:05<00:00, 14.47batch/s, loss=2.97e+5]\n"
     ]
    },
    {
     "name": "stdout",
     "output_type": "stream",
     "text": [
      "Epoch [73/200], Loss: 1160.8063\n"
     ]
    },
    {
     "name": "stderr",
     "output_type": "stream",
     "text": [
      "Epoch 74/200: 100%|██████████| 80/80 [00:05<00:00, 14.24batch/s, loss=2.97e+5]\n"
     ]
    },
    {
     "name": "stdout",
     "output_type": "stream",
     "text": [
      "Epoch [74/200], Loss: 1160.0860\n"
     ]
    },
    {
     "name": "stderr",
     "output_type": "stream",
     "text": [
      "Epoch 75/200: 100%|██████████| 80/80 [00:05<00:00, 14.64batch/s, loss=2.95e+5]\n"
     ]
    },
    {
     "name": "stdout",
     "output_type": "stream",
     "text": [
      "Epoch [75/200], Loss: 1151.2319\n"
     ]
    },
    {
     "name": "stderr",
     "output_type": "stream",
     "text": [
      "Epoch 76/200: 100%|██████████| 80/80 [00:05<00:00, 14.67batch/s, loss=2.93e+5]\n"
     ]
    },
    {
     "name": "stdout",
     "output_type": "stream",
     "text": [
      "Epoch [76/200], Loss: 1145.3390\n"
     ]
    },
    {
     "name": "stderr",
     "output_type": "stream",
     "text": [
      "Epoch 77/200: 100%|██████████| 80/80 [00:05<00:00, 14.90batch/s, loss=2.92e+5]\n"
     ]
    },
    {
     "name": "stdout",
     "output_type": "stream",
     "text": [
      "Epoch [77/200], Loss: 1142.8529\n"
     ]
    },
    {
     "name": "stderr",
     "output_type": "stream",
     "text": [
      "Epoch 78/200: 100%|██████████| 80/80 [00:05<00:00, 14.03batch/s, loss=2.9e+5] \n"
     ]
    },
    {
     "name": "stdout",
     "output_type": "stream",
     "text": [
      "Epoch [78/200], Loss: 1133.1370\n"
     ]
    },
    {
     "name": "stderr",
     "output_type": "stream",
     "text": [
      "Epoch 79/200: 100%|██████████| 80/80 [00:05<00:00, 14.49batch/s, loss=2.89e+5]\n"
     ]
    },
    {
     "name": "stdout",
     "output_type": "stream",
     "text": [
      "Epoch [79/200], Loss: 1130.1060\n"
     ]
    },
    {
     "name": "stderr",
     "output_type": "stream",
     "text": [
      "Epoch 80/200: 100%|██████████| 80/80 [00:05<00:00, 14.46batch/s, loss=2.88e+5]\n"
     ]
    },
    {
     "name": "stdout",
     "output_type": "stream",
     "text": [
      "Epoch [80/200], Loss: 1124.2399\n"
     ]
    },
    {
     "name": "stderr",
     "output_type": "stream",
     "text": [
      "Epoch 81/200: 100%|██████████| 80/80 [00:05<00:00, 14.56batch/s, loss=2.87e+5]\n"
     ]
    },
    {
     "name": "stdout",
     "output_type": "stream",
     "text": [
      "Epoch [81/200], Loss: 1121.1703\n"
     ]
    },
    {
     "name": "stderr",
     "output_type": "stream",
     "text": [
      "Epoch 82/200: 100%|██████████| 80/80 [00:05<00:00, 13.82batch/s, loss=2.86e+5]\n"
     ]
    },
    {
     "name": "stdout",
     "output_type": "stream",
     "text": [
      "Epoch [82/200], Loss: 1116.8999\n"
     ]
    },
    {
     "name": "stderr",
     "output_type": "stream",
     "text": [
      "Epoch 83/200: 100%|██████████| 80/80 [00:06<00:00, 13.24batch/s, loss=2.85e+5]\n"
     ]
    },
    {
     "name": "stdout",
     "output_type": "stream",
     "text": [
      "Epoch [83/200], Loss: 1113.0790\n"
     ]
    },
    {
     "name": "stderr",
     "output_type": "stream",
     "text": [
      "Epoch 84/200: 100%|██████████| 80/80 [00:05<00:00, 14.30batch/s, loss=2.83e+5]\n"
     ]
    },
    {
     "name": "stdout",
     "output_type": "stream",
     "text": [
      "Epoch [84/200], Loss: 1105.1133\n"
     ]
    },
    {
     "name": "stderr",
     "output_type": "stream",
     "text": [
      "Epoch 85/200: 100%|██████████| 80/80 [00:05<00:00, 13.99batch/s, loss=2.82e+5]\n"
     ]
    },
    {
     "name": "stdout",
     "output_type": "stream",
     "text": [
      "Epoch [85/200], Loss: 1101.1488\n"
     ]
    },
    {
     "name": "stderr",
     "output_type": "stream",
     "text": [
      "Epoch 86/200: 100%|██████████| 80/80 [00:05<00:00, 14.63batch/s, loss=2.82e+5]\n"
     ]
    },
    {
     "name": "stdout",
     "output_type": "stream",
     "text": [
      "Epoch [86/200], Loss: 1101.4583\n"
     ]
    },
    {
     "name": "stderr",
     "output_type": "stream",
     "text": [
      "Epoch 87/200: 100%|██████████| 80/80 [00:05<00:00, 14.84batch/s, loss=2.8e+5] \n"
     ]
    },
    {
     "name": "stdout",
     "output_type": "stream",
     "text": [
      "Epoch [87/200], Loss: 1092.2854\n"
     ]
    },
    {
     "name": "stderr",
     "output_type": "stream",
     "text": [
      "Epoch 88/200: 100%|██████████| 80/80 [00:05<00:00, 14.37batch/s, loss=2.79e+5]\n"
     ]
    },
    {
     "name": "stdout",
     "output_type": "stream",
     "text": [
      "Epoch [88/200], Loss: 1090.5728\n"
     ]
    },
    {
     "name": "stderr",
     "output_type": "stream",
     "text": [
      "Epoch 89/200: 100%|██████████| 80/80 [00:05<00:00, 14.15batch/s, loss=2.79e+5]\n"
     ]
    },
    {
     "name": "stdout",
     "output_type": "stream",
     "text": [
      "Epoch [89/200], Loss: 1090.4418\n"
     ]
    },
    {
     "name": "stderr",
     "output_type": "stream",
     "text": [
      "Epoch 90/200: 100%|██████████| 80/80 [00:05<00:00, 14.73batch/s, loss=2.77e+5]\n"
     ]
    },
    {
     "name": "stdout",
     "output_type": "stream",
     "text": [
      "Epoch [90/200], Loss: 1082.9747\n"
     ]
    },
    {
     "name": "stderr",
     "output_type": "stream",
     "text": [
      "Epoch 91/200: 100%|██████████| 80/80 [00:05<00:00, 14.82batch/s, loss=2.76e+5]\n"
     ]
    },
    {
     "name": "stdout",
     "output_type": "stream",
     "text": [
      "Epoch [91/200], Loss: 1077.0305\n"
     ]
    },
    {
     "name": "stderr",
     "output_type": "stream",
     "text": [
      "Epoch 92/200: 100%|██████████| 80/80 [00:05<00:00, 14.38batch/s, loss=2.75e+5]\n"
     ]
    },
    {
     "name": "stdout",
     "output_type": "stream",
     "text": [
      "Epoch [92/200], Loss: 1076.2410\n"
     ]
    },
    {
     "name": "stderr",
     "output_type": "stream",
     "text": [
      "Epoch 93/200: 100%|██████████| 80/80 [00:05<00:00, 14.01batch/s, loss=2.74e+5]\n"
     ]
    },
    {
     "name": "stdout",
     "output_type": "stream",
     "text": [
      "Epoch [93/200], Loss: 1069.4849\n"
     ]
    },
    {
     "name": "stderr",
     "output_type": "stream",
     "text": [
      "Epoch 94/200: 100%|██████████| 80/80 [00:05<00:00, 13.87batch/s, loss=2.73e+5]\n"
     ]
    },
    {
     "name": "stdout",
     "output_type": "stream",
     "text": [
      "Epoch [94/200], Loss: 1067.9724\n"
     ]
    },
    {
     "name": "stderr",
     "output_type": "stream",
     "text": [
      "Epoch 95/200: 100%|██████████| 80/80 [00:05<00:00, 14.41batch/s, loss=2.72e+5]\n"
     ]
    },
    {
     "name": "stdout",
     "output_type": "stream",
     "text": [
      "Epoch [95/200], Loss: 1063.4184\n"
     ]
    },
    {
     "name": "stderr",
     "output_type": "stream",
     "text": [
      "Epoch 96/200: 100%|██████████| 80/80 [00:05<00:00, 14.50batch/s, loss=2.71e+5]\n"
     ]
    },
    {
     "name": "stdout",
     "output_type": "stream",
     "text": [
      "Epoch [96/200], Loss: 1058.5423\n"
     ]
    },
    {
     "name": "stderr",
     "output_type": "stream",
     "text": [
      "Epoch 97/200: 100%|██████████| 80/80 [00:05<00:00, 13.74batch/s, loss=2.71e+5]\n"
     ]
    },
    {
     "name": "stdout",
     "output_type": "stream",
     "text": [
      "Epoch [97/200], Loss: 1057.1815\n"
     ]
    },
    {
     "name": "stderr",
     "output_type": "stream",
     "text": [
      "Epoch 98/200: 100%|██████████| 80/80 [00:05<00:00, 14.06batch/s, loss=2.69e+5]\n"
     ]
    },
    {
     "name": "stdout",
     "output_type": "stream",
     "text": [
      "Epoch [98/200], Loss: 1052.8202\n"
     ]
    },
    {
     "name": "stderr",
     "output_type": "stream",
     "text": [
      "Epoch 99/200: 100%|██████████| 80/80 [00:05<00:00, 13.74batch/s, loss=2.69e+5]\n"
     ]
    },
    {
     "name": "stdout",
     "output_type": "stream",
     "text": [
      "Epoch [99/200], Loss: 1053.0955\n"
     ]
    },
    {
     "name": "stderr",
     "output_type": "stream",
     "text": [
      "Epoch 100/200: 100%|██████████| 80/80 [00:05<00:00, 14.35batch/s, loss=2.68e+5]\n"
     ]
    },
    {
     "name": "stdout",
     "output_type": "stream",
     "text": [
      "Epoch [100/200], Loss: 1046.3799\n"
     ]
    },
    {
     "name": "stderr",
     "output_type": "stream",
     "text": [
      "Epoch 101/200: 100%|██████████| 80/80 [00:05<00:00, 14.41batch/s, loss=2.67e+5]\n"
     ]
    },
    {
     "name": "stdout",
     "output_type": "stream",
     "text": [
      "Epoch [101/200], Loss: 1042.9158\n"
     ]
    },
    {
     "name": "stderr",
     "output_type": "stream",
     "text": [
      "Epoch 102/200: 100%|██████████| 80/80 [00:05<00:00, 14.58batch/s, loss=2.66e+5]\n"
     ]
    },
    {
     "name": "stdout",
     "output_type": "stream",
     "text": [
      "Epoch [102/200], Loss: 1039.6109\n"
     ]
    },
    {
     "name": "stderr",
     "output_type": "stream",
     "text": [
      "Epoch 103/200: 100%|██████████| 80/80 [00:05<00:00, 14.03batch/s, loss=2.65e+5]\n"
     ]
    },
    {
     "name": "stdout",
     "output_type": "stream",
     "text": [
      "Epoch [103/200], Loss: 1035.4170\n"
     ]
    },
    {
     "name": "stderr",
     "output_type": "stream",
     "text": [
      "Epoch 104/200: 100%|██████████| 80/80 [00:05<00:00, 13.52batch/s, loss=2.65e+5]\n"
     ]
    },
    {
     "name": "stdout",
     "output_type": "stream",
     "text": [
      "Epoch [104/200], Loss: 1034.4294\n"
     ]
    },
    {
     "name": "stderr",
     "output_type": "stream",
     "text": [
      "Epoch 105/200: 100%|██████████| 80/80 [00:05<00:00, 14.03batch/s, loss=2.64e+5]\n"
     ]
    },
    {
     "name": "stdout",
     "output_type": "stream",
     "text": [
      "Epoch [105/200], Loss: 1030.9220\n"
     ]
    },
    {
     "name": "stderr",
     "output_type": "stream",
     "text": [
      "Epoch 106/200: 100%|██████████| 80/80 [00:05<00:00, 14.35batch/s, loss=2.63e+5]\n"
     ]
    },
    {
     "name": "stdout",
     "output_type": "stream",
     "text": [
      "Epoch [106/200], Loss: 1026.9322\n"
     ]
    },
    {
     "name": "stderr",
     "output_type": "stream",
     "text": [
      "Epoch 107/200: 100%|██████████| 80/80 [00:05<00:00, 14.57batch/s, loss=2.63e+5]\n"
     ]
    },
    {
     "name": "stdout",
     "output_type": "stream",
     "text": [
      "Epoch [107/200], Loss: 1026.5208\n"
     ]
    },
    {
     "name": "stderr",
     "output_type": "stream",
     "text": [
      "Epoch 108/200: 100%|██████████| 80/80 [00:05<00:00, 13.60batch/s, loss=2.61e+5]\n"
     ]
    },
    {
     "name": "stdout",
     "output_type": "stream",
     "text": [
      "Epoch [108/200], Loss: 1020.3680\n"
     ]
    },
    {
     "name": "stderr",
     "output_type": "stream",
     "text": [
      "Epoch 109/200: 100%|██████████| 80/80 [00:05<00:00, 14.93batch/s, loss=2.61e+5]\n"
     ]
    },
    {
     "name": "stdout",
     "output_type": "stream",
     "text": [
      "Epoch [109/200], Loss: 1018.7246\n"
     ]
    },
    {
     "name": "stderr",
     "output_type": "stream",
     "text": [
      "Epoch 110/200: 100%|██████████| 80/80 [00:05<00:00, 14.48batch/s, loss=2.6e+5] \n"
     ]
    },
    {
     "name": "stdout",
     "output_type": "stream",
     "text": [
      "Epoch [110/200], Loss: 1016.4967\n"
     ]
    },
    {
     "name": "stderr",
     "output_type": "stream",
     "text": [
      "Epoch 111/200: 100%|██████████| 80/80 [00:05<00:00, 14.48batch/s, loss=2.59e+5]\n"
     ]
    },
    {
     "name": "stdout",
     "output_type": "stream",
     "text": [
      "Epoch [111/200], Loss: 1013.0215\n"
     ]
    },
    {
     "name": "stderr",
     "output_type": "stream",
     "text": [
      "Epoch 112/200: 100%|██████████| 80/80 [00:05<00:00, 15.15batch/s, loss=2.58e+5]\n"
     ]
    },
    {
     "name": "stdout",
     "output_type": "stream",
     "text": [
      "Epoch [112/200], Loss: 1007.9923\n"
     ]
    },
    {
     "name": "stderr",
     "output_type": "stream",
     "text": [
      "Epoch 113/200: 100%|██████████| 80/80 [00:05<00:00, 13.75batch/s, loss=2.58e+5]\n"
     ]
    },
    {
     "name": "stdout",
     "output_type": "stream",
     "text": [
      "Epoch [113/200], Loss: 1007.4512\n"
     ]
    },
    {
     "name": "stderr",
     "output_type": "stream",
     "text": [
      "Epoch 114/200: 100%|██████████| 80/80 [00:05<00:00, 14.40batch/s, loss=2.57e+5]\n"
     ]
    },
    {
     "name": "stdout",
     "output_type": "stream",
     "text": [
      "Epoch [114/200], Loss: 1004.7560\n"
     ]
    },
    {
     "name": "stderr",
     "output_type": "stream",
     "text": [
      "Epoch 115/200: 100%|██████████| 80/80 [00:05<00:00, 14.25batch/s, loss=2.56e+5]\n"
     ]
    },
    {
     "name": "stdout",
     "output_type": "stream",
     "text": [
      "Epoch [115/200], Loss: 1001.0064\n"
     ]
    },
    {
     "name": "stderr",
     "output_type": "stream",
     "text": [
      "Epoch 116/200: 100%|██████████| 80/80 [00:05<00:00, 14.39batch/s, loss=2.56e+5]\n"
     ]
    },
    {
     "name": "stdout",
     "output_type": "stream",
     "text": [
      "Epoch [116/200], Loss: 1000.9393\n"
     ]
    },
    {
     "name": "stderr",
     "output_type": "stream",
     "text": [
      "Epoch 117/200: 100%|██████████| 80/80 [00:05<00:00, 14.31batch/s, loss=2.55e+5]\n"
     ]
    },
    {
     "name": "stdout",
     "output_type": "stream",
     "text": [
      "Epoch [117/200], Loss: 995.9664\n"
     ]
    },
    {
     "name": "stderr",
     "output_type": "stream",
     "text": [
      "Epoch 118/200: 100%|██████████| 80/80 [00:05<00:00, 14.33batch/s, loss=2.54e+5]\n"
     ]
    },
    {
     "name": "stdout",
     "output_type": "stream",
     "text": [
      "Epoch [118/200], Loss: 991.7517\n"
     ]
    },
    {
     "name": "stderr",
     "output_type": "stream",
     "text": [
      "Epoch 119/200: 100%|██████████| 80/80 [00:05<00:00, 15.07batch/s, loss=2.54e+5]\n"
     ]
    },
    {
     "name": "stdout",
     "output_type": "stream",
     "text": [
      "Epoch [119/200], Loss: 992.7825\n"
     ]
    },
    {
     "name": "stderr",
     "output_type": "stream",
     "text": [
      "Epoch 120/200: 100%|██████████| 80/80 [00:05<00:00, 14.02batch/s, loss=2.53e+5]\n"
     ]
    },
    {
     "name": "stdout",
     "output_type": "stream",
     "text": [
      "Epoch [120/200], Loss: 990.4584\n"
     ]
    },
    {
     "name": "stderr",
     "output_type": "stream",
     "text": [
      "Epoch 121/200: 100%|██████████| 80/80 [00:05<00:00, 13.92batch/s, loss=2.52e+5]\n"
     ]
    },
    {
     "name": "stdout",
     "output_type": "stream",
     "text": [
      "Epoch [121/200], Loss: 985.2077\n"
     ]
    },
    {
     "name": "stderr",
     "output_type": "stream",
     "text": [
      "Epoch 122/200: 100%|██████████| 80/80 [00:05<00:00, 14.08batch/s, loss=2.51e+5]\n"
     ]
    },
    {
     "name": "stdout",
     "output_type": "stream",
     "text": [
      "Epoch [122/200], Loss: 982.1214\n"
     ]
    },
    {
     "name": "stderr",
     "output_type": "stream",
     "text": [
      "Epoch 123/200: 100%|██████████| 80/80 [00:05<00:00, 14.42batch/s, loss=2.53e+5]\n"
     ]
    },
    {
     "name": "stdout",
     "output_type": "stream",
     "text": [
      "Epoch [123/200], Loss: 987.1826\n"
     ]
    },
    {
     "name": "stderr",
     "output_type": "stream",
     "text": [
      "Epoch 124/200: 100%|██████████| 80/80 [00:05<00:00, 14.85batch/s, loss=2.51e+5]\n"
     ]
    },
    {
     "name": "stdout",
     "output_type": "stream",
     "text": [
      "Epoch [124/200], Loss: 980.9713\n"
     ]
    },
    {
     "name": "stderr",
     "output_type": "stream",
     "text": [
      "Epoch 125/200: 100%|██████████| 80/80 [00:05<00:00, 14.95batch/s, loss=2.5e+5] \n"
     ]
    },
    {
     "name": "stdout",
     "output_type": "stream",
     "text": [
      "Epoch [125/200], Loss: 975.5288\n"
     ]
    },
    {
     "name": "stderr",
     "output_type": "stream",
     "text": [
      "Epoch 126/200: 100%|██████████| 80/80 [00:06<00:00, 13.22batch/s, loss=2.49e+5]\n"
     ]
    },
    {
     "name": "stdout",
     "output_type": "stream",
     "text": [
      "Epoch [126/200], Loss: 972.9323\n"
     ]
    },
    {
     "name": "stderr",
     "output_type": "stream",
     "text": [
      "Epoch 127/200: 100%|██████████| 80/80 [00:06<00:00, 13.02batch/s, loss=2.48e+5]\n"
     ]
    },
    {
     "name": "stdout",
     "output_type": "stream",
     "text": [
      "Epoch [127/200], Loss: 969.6129\n"
     ]
    },
    {
     "name": "stderr",
     "output_type": "stream",
     "text": [
      "Epoch 128/200: 100%|██████████| 80/80 [00:05<00:00, 14.55batch/s, loss=2.48e+5]\n"
     ]
    },
    {
     "name": "stdout",
     "output_type": "stream",
     "text": [
      "Epoch [128/200], Loss: 970.3367\n"
     ]
    },
    {
     "name": "stderr",
     "output_type": "stream",
     "text": [
      "Epoch 129/200: 100%|██████████| 80/80 [00:05<00:00, 14.39batch/s, loss=2.47e+5]\n"
     ]
    },
    {
     "name": "stdout",
     "output_type": "stream",
     "text": [
      "Epoch [129/200], Loss: 967.1509\n"
     ]
    },
    {
     "name": "stderr",
     "output_type": "stream",
     "text": [
      "Epoch 130/200: 100%|██████████| 80/80 [00:05<00:00, 14.46batch/s, loss=2.47e+5]\n"
     ]
    },
    {
     "name": "stdout",
     "output_type": "stream",
     "text": [
      "Epoch [130/200], Loss: 965.2767\n"
     ]
    },
    {
     "name": "stderr",
     "output_type": "stream",
     "text": [
      "Epoch 131/200: 100%|██████████| 80/80 [00:05<00:00, 15.00batch/s, loss=2.47e+5]\n"
     ]
    },
    {
     "name": "stdout",
     "output_type": "stream",
     "text": [
      "Epoch [131/200], Loss: 966.8736\n"
     ]
    },
    {
     "name": "stderr",
     "output_type": "stream",
     "text": [
      "Epoch 132/200: 100%|██████████| 80/80 [00:05<00:00, 14.42batch/s, loss=2.45e+5]\n"
     ]
    },
    {
     "name": "stdout",
     "output_type": "stream",
     "text": [
      "Epoch [132/200], Loss: 958.5671\n"
     ]
    },
    {
     "name": "stderr",
     "output_type": "stream",
     "text": [
      "Epoch 133/200: 100%|██████████| 80/80 [00:05<00:00, 14.69batch/s, loss=2.47e+5]\n"
     ]
    },
    {
     "name": "stdout",
     "output_type": "stream",
     "text": [
      "Epoch [133/200], Loss: 964.4348\n"
     ]
    },
    {
     "name": "stderr",
     "output_type": "stream",
     "text": [
      "Epoch 134/200: 100%|██████████| 80/80 [00:05<00:00, 14.19batch/s, loss=2.45e+5]\n"
     ]
    },
    {
     "name": "stdout",
     "output_type": "stream",
     "text": [
      "Epoch [134/200], Loss: 956.4054\n"
     ]
    },
    {
     "name": "stderr",
     "output_type": "stream",
     "text": [
      "Epoch 135/200: 100%|██████████| 80/80 [00:05<00:00, 14.60batch/s, loss=2.44e+5]\n"
     ]
    },
    {
     "name": "stdout",
     "output_type": "stream",
     "text": [
      "Epoch [135/200], Loss: 954.4724\n"
     ]
    },
    {
     "name": "stderr",
     "output_type": "stream",
     "text": [
      "Epoch 136/200: 100%|██████████| 80/80 [00:05<00:00, 14.50batch/s, loss=2.43e+5]\n"
     ]
    },
    {
     "name": "stdout",
     "output_type": "stream",
     "text": [
      "Epoch [136/200], Loss: 951.1712\n"
     ]
    },
    {
     "name": "stderr",
     "output_type": "stream",
     "text": [
      "Epoch 137/200: 100%|██████████| 80/80 [00:05<00:00, 14.91batch/s, loss=2.43e+5]\n"
     ]
    },
    {
     "name": "stdout",
     "output_type": "stream",
     "text": [
      "Epoch [137/200], Loss: 951.2933\n"
     ]
    },
    {
     "name": "stderr",
     "output_type": "stream",
     "text": [
      "Epoch 138/200: 100%|██████████| 80/80 [00:05<00:00, 14.49batch/s, loss=2.43e+5]\n"
     ]
    },
    {
     "name": "stdout",
     "output_type": "stream",
     "text": [
      "Epoch [138/200], Loss: 948.7186\n"
     ]
    },
    {
     "name": "stderr",
     "output_type": "stream",
     "text": [
      "Epoch 139/200: 100%|██████████| 80/80 [00:05<00:00, 14.43batch/s, loss=2.42e+5]\n"
     ]
    },
    {
     "name": "stdout",
     "output_type": "stream",
     "text": [
      "Epoch [139/200], Loss: 946.1709\n"
     ]
    },
    {
     "name": "stderr",
     "output_type": "stream",
     "text": [
      "Epoch 140/200: 100%|██████████| 80/80 [00:05<00:00, 13.69batch/s, loss=2.42e+5]\n"
     ]
    },
    {
     "name": "stdout",
     "output_type": "stream",
     "text": [
      "Epoch [140/200], Loss: 946.7951\n"
     ]
    },
    {
     "name": "stderr",
     "output_type": "stream",
     "text": [
      "Epoch 141/200: 100%|██████████| 80/80 [00:05<00:00, 13.93batch/s, loss=2.42e+5]\n"
     ]
    },
    {
     "name": "stdout",
     "output_type": "stream",
     "text": [
      "Epoch [141/200], Loss: 943.9366\n"
     ]
    },
    {
     "name": "stderr",
     "output_type": "stream",
     "text": [
      "Epoch 142/200: 100%|██████████| 80/80 [00:05<00:00, 14.86batch/s, loss=2.41e+5]\n"
     ]
    },
    {
     "name": "stdout",
     "output_type": "stream",
     "text": [
      "Epoch [142/200], Loss: 941.1319\n"
     ]
    },
    {
     "name": "stderr",
     "output_type": "stream",
     "text": [
      "Epoch 143/200: 100%|██████████| 80/80 [00:05<00:00, 14.23batch/s, loss=2.4e+5] \n"
     ]
    },
    {
     "name": "stdout",
     "output_type": "stream",
     "text": [
      "Epoch [143/200], Loss: 938.4678\n"
     ]
    },
    {
     "name": "stderr",
     "output_type": "stream",
     "text": [
      "Epoch 144/200: 100%|██████████| 80/80 [00:05<00:00, 14.35batch/s, loss=2.4e+5] \n"
     ]
    },
    {
     "name": "stdout",
     "output_type": "stream",
     "text": [
      "Epoch [144/200], Loss: 939.2494\n"
     ]
    },
    {
     "name": "stderr",
     "output_type": "stream",
     "text": [
      "Epoch 145/200: 100%|██████████| 80/80 [00:05<00:00, 14.42batch/s, loss=2.4e+5] \n"
     ]
    },
    {
     "name": "stdout",
     "output_type": "stream",
     "text": [
      "Epoch [145/200], Loss: 938.0761\n"
     ]
    },
    {
     "name": "stderr",
     "output_type": "stream",
     "text": [
      "Epoch 146/200: 100%|██████████| 80/80 [00:05<00:00, 14.82batch/s, loss=2.38e+5]\n"
     ]
    },
    {
     "name": "stdout",
     "output_type": "stream",
     "text": [
      "Epoch [146/200], Loss: 931.9092\n"
     ]
    },
    {
     "name": "stderr",
     "output_type": "stream",
     "text": [
      "Epoch 147/200: 100%|██████████| 80/80 [00:05<00:00, 14.54batch/s, loss=2.39e+5]\n"
     ]
    },
    {
     "name": "stdout",
     "output_type": "stream",
     "text": [
      "Epoch [147/200], Loss: 932.8428\n"
     ]
    },
    {
     "name": "stderr",
     "output_type": "stream",
     "text": [
      "Epoch 148/200: 100%|██████████| 80/80 [00:05<00:00, 13.86batch/s, loss=2.39e+5]\n"
     ]
    },
    {
     "name": "stdout",
     "output_type": "stream",
     "text": [
      "Epoch [148/200], Loss: 932.5871\n"
     ]
    },
    {
     "name": "stderr",
     "output_type": "stream",
     "text": [
      "Epoch 149/200: 100%|██████████| 80/80 [00:05<00:00, 13.74batch/s, loss=2.37e+5]\n"
     ]
    },
    {
     "name": "stdout",
     "output_type": "stream",
     "text": [
      "Epoch [149/200], Loss: 926.6727\n"
     ]
    },
    {
     "name": "stderr",
     "output_type": "stream",
     "text": [
      "Epoch 150/200: 100%|██████████| 80/80 [00:05<00:00, 14.18batch/s, loss=2.37e+5]\n"
     ]
    },
    {
     "name": "stdout",
     "output_type": "stream",
     "text": [
      "Epoch [150/200], Loss: 925.1820\n"
     ]
    },
    {
     "name": "stderr",
     "output_type": "stream",
     "text": [
      "Epoch 151/200: 100%|██████████| 80/80 [00:05<00:00, 14.16batch/s, loss=2.37e+5]\n"
     ]
    },
    {
     "name": "stdout",
     "output_type": "stream",
     "text": [
      "Epoch [151/200], Loss: 926.1524\n"
     ]
    },
    {
     "name": "stderr",
     "output_type": "stream",
     "text": [
      "Epoch 152/200: 100%|██████████| 80/80 [00:05<00:00, 14.92batch/s, loss=2.36e+5]\n"
     ]
    },
    {
     "name": "stdout",
     "output_type": "stream",
     "text": [
      "Epoch [152/200], Loss: 922.7521\n"
     ]
    },
    {
     "name": "stderr",
     "output_type": "stream",
     "text": [
      "Epoch 153/200: 100%|██████████| 80/80 [00:05<00:00, 13.78batch/s, loss=2.36e+5]\n"
     ]
    },
    {
     "name": "stdout",
     "output_type": "stream",
     "text": [
      "Epoch [153/200], Loss: 920.5563\n"
     ]
    },
    {
     "name": "stderr",
     "output_type": "stream",
     "text": [
      "Epoch 154/200: 100%|██████████| 80/80 [00:05<00:00, 14.93batch/s, loss=2.36e+5]\n"
     ]
    },
    {
     "name": "stdout",
     "output_type": "stream",
     "text": [
      "Epoch [154/200], Loss: 920.4199\n"
     ]
    },
    {
     "name": "stderr",
     "output_type": "stream",
     "text": [
      "Epoch 155/200: 100%|██████████| 80/80 [00:05<00:00, 14.86batch/s, loss=2.35e+5]\n"
     ]
    },
    {
     "name": "stdout",
     "output_type": "stream",
     "text": [
      "Epoch [155/200], Loss: 916.7766\n"
     ]
    },
    {
     "name": "stderr",
     "output_type": "stream",
     "text": [
      "Epoch 156/200: 100%|██████████| 80/80 [00:05<00:00, 14.63batch/s, loss=2.35e+5]\n"
     ]
    },
    {
     "name": "stdout",
     "output_type": "stream",
     "text": [
      "Epoch [156/200], Loss: 917.2449\n"
     ]
    },
    {
     "name": "stderr",
     "output_type": "stream",
     "text": [
      "Epoch 157/200: 100%|██████████| 80/80 [00:05<00:00, 13.53batch/s, loss=2.34e+5]\n"
     ]
    },
    {
     "name": "stdout",
     "output_type": "stream",
     "text": [
      "Epoch [157/200], Loss: 914.3651\n"
     ]
    },
    {
     "name": "stderr",
     "output_type": "stream",
     "text": [
      "Epoch 158/200: 100%|██████████| 80/80 [00:05<00:00, 14.43batch/s, loss=2.34e+5]\n"
     ]
    },
    {
     "name": "stdout",
     "output_type": "stream",
     "text": [
      "Epoch [158/200], Loss: 913.2612\n"
     ]
    },
    {
     "name": "stderr",
     "output_type": "stream",
     "text": [
      "Epoch 159/200: 100%|██████████| 80/80 [00:05<00:00, 14.54batch/s, loss=2.34e+5]\n"
     ]
    },
    {
     "name": "stdout",
     "output_type": "stream",
     "text": [
      "Epoch [159/200], Loss: 912.8280\n"
     ]
    },
    {
     "name": "stderr",
     "output_type": "stream",
     "text": [
      "Epoch 160/200: 100%|██████████| 80/80 [00:05<00:00, 14.26batch/s, loss=2.33e+5]\n"
     ]
    },
    {
     "name": "stdout",
     "output_type": "stream",
     "text": [
      "Epoch [160/200], Loss: 909.3912\n"
     ]
    },
    {
     "name": "stderr",
     "output_type": "stream",
     "text": [
      "Epoch 161/200: 100%|██████████| 80/80 [00:05<00:00, 14.26batch/s, loss=2.33e+5]\n"
     ]
    },
    {
     "name": "stdout",
     "output_type": "stream",
     "text": [
      "Epoch [161/200], Loss: 908.6463\n"
     ]
    },
    {
     "name": "stderr",
     "output_type": "stream",
     "text": [
      "Epoch 162/200: 100%|██████████| 80/80 [00:05<00:00, 14.76batch/s, loss=2.32e+5]\n"
     ]
    },
    {
     "name": "stdout",
     "output_type": "stream",
     "text": [
      "Epoch [162/200], Loss: 908.1852\n"
     ]
    },
    {
     "name": "stderr",
     "output_type": "stream",
     "text": [
      "Epoch 163/200: 100%|██████████| 80/80 [00:05<00:00, 14.10batch/s, loss=2.32e+5]\n"
     ]
    },
    {
     "name": "stdout",
     "output_type": "stream",
     "text": [
      "Epoch [163/200], Loss: 906.6788\n"
     ]
    },
    {
     "name": "stderr",
     "output_type": "stream",
     "text": [
      "Epoch 164/200: 100%|██████████| 80/80 [00:05<00:00, 14.13batch/s, loss=2.32e+5]\n"
     ]
    },
    {
     "name": "stdout",
     "output_type": "stream",
     "text": [
      "Epoch [164/200], Loss: 904.7035\n"
     ]
    },
    {
     "name": "stderr",
     "output_type": "stream",
     "text": [
      "Epoch 165/200: 100%|██████████| 80/80 [00:05<00:00, 14.80batch/s, loss=2.31e+5]\n"
     ]
    },
    {
     "name": "stdout",
     "output_type": "stream",
     "text": [
      "Epoch [165/200], Loss: 901.6075\n"
     ]
    },
    {
     "name": "stderr",
     "output_type": "stream",
     "text": [
      "Epoch 166/200: 100%|██████████| 80/80 [00:05<00:00, 14.34batch/s, loss=2.31e+5]\n"
     ]
    },
    {
     "name": "stdout",
     "output_type": "stream",
     "text": [
      "Epoch [166/200], Loss: 902.0119\n"
     ]
    },
    {
     "name": "stderr",
     "output_type": "stream",
     "text": [
      "Epoch 167/200: 100%|██████████| 80/80 [00:05<00:00, 13.77batch/s, loss=2.31e+5]\n"
     ]
    },
    {
     "name": "stdout",
     "output_type": "stream",
     "text": [
      "Epoch [167/200], Loss: 901.8056\n"
     ]
    },
    {
     "name": "stderr",
     "output_type": "stream",
     "text": [
      "Epoch 168/200: 100%|██████████| 80/80 [00:05<00:00, 14.41batch/s, loss=2.29e+5]\n"
     ]
    },
    {
     "name": "stdout",
     "output_type": "stream",
     "text": [
      "Epoch [168/200], Loss: 896.3160\n"
     ]
    },
    {
     "name": "stderr",
     "output_type": "stream",
     "text": [
      "Epoch 169/200: 100%|██████████| 80/80 [00:05<00:00, 14.42batch/s, loss=2.3e+5] \n"
     ]
    },
    {
     "name": "stdout",
     "output_type": "stream",
     "text": [
      "Epoch [169/200], Loss: 897.7919\n"
     ]
    },
    {
     "name": "stderr",
     "output_type": "stream",
     "text": [
      "Epoch 170/200: 100%|██████████| 80/80 [00:05<00:00, 14.44batch/s, loss=2.29e+5]\n"
     ]
    },
    {
     "name": "stdout",
     "output_type": "stream",
     "text": [
      "Epoch [170/200], Loss: 895.9242\n"
     ]
    },
    {
     "name": "stderr",
     "output_type": "stream",
     "text": [
      "Epoch 171/200: 100%|██████████| 80/80 [00:05<00:00, 14.06batch/s, loss=2.29e+5]\n"
     ]
    },
    {
     "name": "stdout",
     "output_type": "stream",
     "text": [
      "Epoch [171/200], Loss: 894.2227\n"
     ]
    },
    {
     "name": "stderr",
     "output_type": "stream",
     "text": [
      "Epoch 172/200: 100%|██████████| 80/80 [00:05<00:00, 14.85batch/s, loss=2.29e+5]\n"
     ]
    },
    {
     "name": "stdout",
     "output_type": "stream",
     "text": [
      "Epoch [172/200], Loss: 895.1335\n"
     ]
    },
    {
     "name": "stderr",
     "output_type": "stream",
     "text": [
      "Epoch 173/200: 100%|██████████| 80/80 [00:05<00:00, 14.32batch/s, loss=2.28e+5]\n"
     ]
    },
    {
     "name": "stdout",
     "output_type": "stream",
     "text": [
      "Epoch [173/200], Loss: 891.6394\n"
     ]
    },
    {
     "name": "stderr",
     "output_type": "stream",
     "text": [
      "Epoch 174/200: 100%|██████████| 80/80 [00:05<00:00, 14.85batch/s, loss=2.27e+5]\n"
     ]
    },
    {
     "name": "stdout",
     "output_type": "stream",
     "text": [
      "Epoch [174/200], Loss: 888.7835\n"
     ]
    },
    {
     "name": "stderr",
     "output_type": "stream",
     "text": [
      "Epoch 175/200: 100%|██████████| 80/80 [00:05<00:00, 13.84batch/s, loss=2.27e+5]\n"
     ]
    },
    {
     "name": "stdout",
     "output_type": "stream",
     "text": [
      "Epoch [175/200], Loss: 887.1813\n"
     ]
    },
    {
     "name": "stderr",
     "output_type": "stream",
     "text": [
      "Epoch 176/200: 100%|██████████| 80/80 [00:05<00:00, 14.46batch/s, loss=2.27e+5]\n"
     ]
    },
    {
     "name": "stdout",
     "output_type": "stream",
     "text": [
      "Epoch [176/200], Loss: 886.3460\n"
     ]
    },
    {
     "name": "stderr",
     "output_type": "stream",
     "text": [
      "Epoch 177/200: 100%|██████████| 80/80 [00:05<00:00, 15.18batch/s, loss=2.26e+5]\n"
     ]
    },
    {
     "name": "stdout",
     "output_type": "stream",
     "text": [
      "Epoch [177/200], Loss: 885.0754\n"
     ]
    },
    {
     "name": "stderr",
     "output_type": "stream",
     "text": [
      "Epoch 178/200: 100%|██████████| 80/80 [00:05<00:00, 14.90batch/s, loss=2.27e+5]\n"
     ]
    },
    {
     "name": "stdout",
     "output_type": "stream",
     "text": [
      "Epoch [178/200], Loss: 885.5310\n"
     ]
    },
    {
     "name": "stderr",
     "output_type": "stream",
     "text": [
      "Epoch 179/200: 100%|██████████| 80/80 [00:05<00:00, 15.48batch/s, loss=2.27e+5]\n"
     ]
    },
    {
     "name": "stdout",
     "output_type": "stream",
     "text": [
      "Epoch [179/200], Loss: 885.1918\n"
     ]
    },
    {
     "name": "stderr",
     "output_type": "stream",
     "text": [
      "Epoch 180/200: 100%|██████████| 80/80 [00:05<00:00, 14.48batch/s, loss=2.26e+5]\n"
     ]
    },
    {
     "name": "stdout",
     "output_type": "stream",
     "text": [
      "Epoch [180/200], Loss: 881.5576\n"
     ]
    },
    {
     "name": "stderr",
     "output_type": "stream",
     "text": [
      "Epoch 181/200: 100%|██████████| 80/80 [00:05<00:00, 14.81batch/s, loss=2.25e+5]\n"
     ]
    },
    {
     "name": "stdout",
     "output_type": "stream",
     "text": [
      "Epoch [181/200], Loss: 879.6764\n"
     ]
    },
    {
     "name": "stderr",
     "output_type": "stream",
     "text": [
      "Epoch 182/200: 100%|██████████| 80/80 [00:05<00:00, 13.77batch/s, loss=2.25e+5]\n"
     ]
    },
    {
     "name": "stdout",
     "output_type": "stream",
     "text": [
      "Epoch [182/200], Loss: 878.8475\n"
     ]
    },
    {
     "name": "stderr",
     "output_type": "stream",
     "text": [
      "Epoch 183/200: 100%|██████████| 80/80 [00:05<00:00, 13.42batch/s, loss=2.25e+5]\n"
     ]
    },
    {
     "name": "stdout",
     "output_type": "stream",
     "text": [
      "Epoch [183/200], Loss: 878.8750\n"
     ]
    },
    {
     "name": "stderr",
     "output_type": "stream",
     "text": [
      "Epoch 184/200: 100%|██████████| 80/80 [00:05<00:00, 14.76batch/s, loss=2.24e+5]\n"
     ]
    },
    {
     "name": "stdout",
     "output_type": "stream",
     "text": [
      "Epoch [184/200], Loss: 874.7386\n"
     ]
    },
    {
     "name": "stderr",
     "output_type": "stream",
     "text": [
      "Epoch 185/200: 100%|██████████| 80/80 [00:05<00:00, 14.54batch/s, loss=2.24e+5]\n"
     ]
    },
    {
     "name": "stdout",
     "output_type": "stream",
     "text": [
      "Epoch [185/200], Loss: 875.2228\n"
     ]
    },
    {
     "name": "stderr",
     "output_type": "stream",
     "text": [
      "Epoch 186/200: 100%|██████████| 80/80 [00:05<00:00, 14.47batch/s, loss=2.24e+5]\n"
     ]
    },
    {
     "name": "stdout",
     "output_type": "stream",
     "text": [
      "Epoch [186/200], Loss: 874.1487\n"
     ]
    },
    {
     "name": "stderr",
     "output_type": "stream",
     "text": [
      "Epoch 187/200: 100%|██████████| 80/80 [00:05<00:00, 14.45batch/s, loss=2.23e+5]\n"
     ]
    },
    {
     "name": "stdout",
     "output_type": "stream",
     "text": [
      "Epoch [187/200], Loss: 872.1135\n"
     ]
    },
    {
     "name": "stderr",
     "output_type": "stream",
     "text": [
      "Epoch 188/200: 100%|██████████| 80/80 [00:05<00:00, 14.38batch/s, loss=2.23e+5]\n"
     ]
    },
    {
     "name": "stdout",
     "output_type": "stream",
     "text": [
      "Epoch [188/200], Loss: 871.2194\n"
     ]
    },
    {
     "name": "stderr",
     "output_type": "stream",
     "text": [
      "Epoch 189/200: 100%|██████████| 80/80 [00:05<00:00, 13.53batch/s, loss=2.24e+5]\n"
     ]
    },
    {
     "name": "stdout",
     "output_type": "stream",
     "text": [
      "Epoch [189/200], Loss: 874.1180\n"
     ]
    },
    {
     "name": "stderr",
     "output_type": "stream",
     "text": [
      "Epoch 190/200: 100%|██████████| 80/80 [00:05<00:00, 14.62batch/s, loss=2.22e+5]\n"
     ]
    },
    {
     "name": "stdout",
     "output_type": "stream",
     "text": [
      "Epoch [190/200], Loss: 868.4981\n"
     ]
    },
    {
     "name": "stderr",
     "output_type": "stream",
     "text": [
      "Epoch 191/200: 100%|██████████| 80/80 [00:05<00:00, 14.15batch/s, loss=2.22e+5]\n"
     ]
    },
    {
     "name": "stdout",
     "output_type": "stream",
     "text": [
      "Epoch [191/200], Loss: 867.3042\n"
     ]
    },
    {
     "name": "stderr",
     "output_type": "stream",
     "text": [
      "Epoch 192/200: 100%|██████████| 80/80 [00:05<00:00, 14.05batch/s, loss=2.22e+5]\n"
     ]
    },
    {
     "name": "stdout",
     "output_type": "stream",
     "text": [
      "Epoch [192/200], Loss: 866.2545\n"
     ]
    },
    {
     "name": "stderr",
     "output_type": "stream",
     "text": [
      "Epoch 193/200: 100%|██████████| 80/80 [00:05<00:00, 14.38batch/s, loss=2.22e+5]\n"
     ]
    },
    {
     "name": "stdout",
     "output_type": "stream",
     "text": [
      "Epoch [193/200], Loss: 865.7862\n"
     ]
    },
    {
     "name": "stderr",
     "output_type": "stream",
     "text": [
      "Epoch 194/200: 100%|██████████| 80/80 [00:05<00:00, 14.99batch/s, loss=2.21e+5]\n"
     ]
    },
    {
     "name": "stdout",
     "output_type": "stream",
     "text": [
      "Epoch [194/200], Loss: 862.8244\n"
     ]
    },
    {
     "name": "stderr",
     "output_type": "stream",
     "text": [
      "Epoch 195/200: 100%|██████████| 80/80 [00:05<00:00, 14.57batch/s, loss=2.21e+5]\n"
     ]
    },
    {
     "name": "stdout",
     "output_type": "stream",
     "text": [
      "Epoch [195/200], Loss: 864.8224\n"
     ]
    },
    {
     "name": "stderr",
     "output_type": "stream",
     "text": [
      "Epoch 196/200: 100%|██████████| 80/80 [00:05<00:00, 13.94batch/s, loss=2.21e+5]\n"
     ]
    },
    {
     "name": "stdout",
     "output_type": "stream",
     "text": [
      "Epoch [196/200], Loss: 863.7925\n"
     ]
    },
    {
     "name": "stderr",
     "output_type": "stream",
     "text": [
      "Epoch 197/200: 100%|██████████| 80/80 [00:05<00:00, 14.99batch/s, loss=2.2e+5] \n"
     ]
    },
    {
     "name": "stdout",
     "output_type": "stream",
     "text": [
      "Epoch [197/200], Loss: 859.9074\n"
     ]
    },
    {
     "name": "stderr",
     "output_type": "stream",
     "text": [
      "Epoch 198/200: 100%|██████████| 80/80 [00:05<00:00, 13.63batch/s, loss=2.2e+5]\n"
     ]
    },
    {
     "name": "stdout",
     "output_type": "stream",
     "text": [
      "Epoch [198/200], Loss: 859.5800\n"
     ]
    },
    {
     "name": "stderr",
     "output_type": "stream",
     "text": [
      "Epoch 199/200: 100%|██████████| 80/80 [00:05<00:00, 14.40batch/s, loss=2.2e+5] \n"
     ]
    },
    {
     "name": "stdout",
     "output_type": "stream",
     "text": [
      "Epoch [199/200], Loss: 859.4182\n"
     ]
    },
    {
     "name": "stderr",
     "output_type": "stream",
     "text": [
      "Epoch 200/200: 100%|██████████| 80/80 [00:05<00:00, 13.79batch/s, loss=2.2e+5] "
     ]
    },
    {
     "name": "stdout",
     "output_type": "stream",
     "text": [
      "Epoch [200/200], Loss: 859.7370\n"
     ]
    },
    {
     "name": "stderr",
     "output_type": "stream",
     "text": [
      "\n"
     ]
    }
   ],
   "source": [
    "### Train Model\n",
    "lambda_kl = 0.4\n",
    "epochs = 200\n",
    "train(dataloader, model, optimizer, epochs=epochs, lambda_kl=lambda_kl)"
   ]
  },
  {
   "cell_type": "code",
   "execution_count": 9,
   "id": "19c1430c-93aa-441a-97e2-022f8c6fe131",
   "metadata": {
    "tags": []
   },
   "outputs": [],
   "source": [
    "def get_latent_representation(index):\n",
    "    image_tensor = dataset[index]\n",
    "    img = image_tensor.unsqueeze(0).to(device)  # Add batch dimension and move to device\n",
    "    with torch.no_grad():\n",
    "        mu, logvar = model.encode(img)\n",
    "    return mu, logvar\n",
    "\n",
    "def decode_latent_representation(mu, logvar):\n",
    "    with torch.no_grad():\n",
    "        latent_rep = model.reparameterize(mu, logvar)\n",
    "        reconstructed_image = model.decode(latent_rep)\n",
    "    return reconstructed_image\n",
    "\n",
    "def visualize_images(original_image_tensor, reconstructed_image_tensor):\n",
    "\n",
    "    # Process the reconstructed image\n",
    "    reconstructed_image = reconstructed_image_tensor.cpu().squeeze(0).detach().numpy()\n",
    "    reconstructed_image = reconstructed_image.transpose(1, 2, 0)  # Convert from (C, H, W) to (H, W, C)\n",
    "    reconstructed_image = (reconstructed_image + 1) / 2  # Rescale to [0, 1]\n",
    "\n",
    "    # Process the original image\n",
    "    image = original_image_tensor.permute(1, 2, 0).cpu().numpy()  # Convert from (C, H, W) to (H, W, C)\n",
    "    image = (image + 1) / 2  # Rescale to [0, 1]\n",
    "\n",
    "    # Plot the original and reconstructed images\n",
    "    plt.figure(figsize=(6, 3))\n",
    "    plt.subplot(1, 2, 1)\n",
    "    plt.imshow(image)\n",
    "    plt.title('Original Image')\n",
    "    plt.axis('off')\n",
    "    plt.subplot(1, 2, 2)\n",
    "    plt.imshow(reconstructed_image)\n",
    "    plt.title('Reconstructed Image')\n",
    "    plt.axis('off')\n",
    "    plt.show()\n"
   ]
  },
  {
   "cell_type": "markdown",
   "id": "c48cb735-6ba3-46c7-b118-4dfb774f7b35",
   "metadata": {},
   "source": [
    "### Training Dataset Reconstructions by the VAE model"
   ]
  },
  {
   "cell_type": "code",
   "execution_count": 23,
   "id": "b137e774-3a16-4f34-bfdd-4e7e16b174c4",
   "metadata": {
    "tags": []
   },
   "outputs": [
    {
     "data": {
      "image/png": "[encoded data removed]",
      "text/plain": [
       "<Figure size 600x300 with 2 Axes>"
      ]
     },
     "metadata": {},
     "output_type": "display_data"
    }
   ],
   "source": [
    "i = 343\n",
    "visualize_images(dataset[i], decode_latent_representation(*get_latent_representation(i)))"
   ]
  },
  {
   "cell_type": "code",
   "execution_count": 26,
   "id": "429de475-2df6-4967-aa75-ed2451a5622f",
   "metadata": {
    "tags": []
   },
   "outputs": [],
   "source": [
    "# Save only the weights (state_dict)\n",
    "torch.save(model.state_dict(), f'model_weights_{latent_dim}.pth')"
   ]
  },
  {
   "cell_type": "markdown",
   "id": "31c3733d-1fd6-44bc-a352-57b4a9fc80f9",
   "metadata": {},
   "source": [
    "## Update model using saved weights"
   ]
  },
  {
   "cell_type": "code",
   "execution_count": 6,
   "id": "1febdd1f-54a3-4170-83dd-f8657ea53656",
   "metadata": {
    "tags": []
   },
   "outputs": [
    {
     "data": {
      "text/plain": [
       "<All keys matched successfully>"
      ]
     },
     "execution_count": 6,
     "metadata": {},
     "output_type": "execute_result"
    }
   ],
   "source": [
    "model.load_state_dict(torch.load(f'model_weights_{latent_dim}.pth', weights_only=True))"
   ]
  },
  {
   "cell_type": "markdown",
   "id": "9a2540ca-5d4a-4713-a845-f662ad0ed744",
   "metadata": {},
   "source": [
    "### Save reconstructions of training images"
   ]
  },
  {
   "cell_type": "code",
   "execution_count": 24,
   "id": "7a962eea-7a27-46a1-857c-806eb9906f02",
   "metadata": {},
   "outputs": [
    {
     "name": "stderr",
     "output_type": "stream",
     "text": [
      "100%|██████████| 80/80 [00:34<00:00,  2.31it/s]\n"
     ]
    }
   ],
   "source": [
    "output_dir1 = f\"reconstructed_images_{latent_dim}_dim_celeba\"\n",
    "os.makedirs(output_dir1, exist_ok=True)\n",
    "\n",
    "folder_path = \"celebA_class_dataset/Smiling_Male_Young\"\n",
    "\n",
    "batch_size=256\n",
    "dataset = CelebADataset(folder_path=folder_path, transform=transform)\n",
    "dataloader = DataLoader(dataset, batch_size=batch_size, shuffle=False, num_workers=num_cpus)\n",
    "\n",
    "# Set the model to evaluation mode\n",
    "model.eval()\n",
    "\n",
    "# Transformation to convert tensor to image\n",
    "to_pil_image = transforms.ToPILImage()\n",
    "\n",
    "# Iterate over the training set with tqdm for progress bar\n",
    "with torch.no_grad():  # Disable gradient computation for inference\n",
    "    for i, images in tqdm(enumerate(dataloader), total=len(dataloader)):\n",
    "        images = images.to(device)  # Move images to device (GPU/CPU)\n",
    "\n",
    "        reconstructed_images, _, _ = model(images)\n",
    "\n",
    "        for j in range(reconstructed_images.size(0)):  # Iterate over batch size\n",
    "            # Process reconstructed image\n",
    "            reconstructed_image = (reconstructed_images[j] + 1) / 2  # Normalize the reconstructed image\n",
    "            reconstructed_image_pil = to_pil_image(reconstructed_image.cpu())  # Convert to PIL image\n",
    "\n",
    "            # Save reconstructed image\n",
    "            reconstructed_image_pil.save(f\"{output_dir1}/reconstructed_{i * batch_size + j}.jpg\", format='JPEG')\n"
   ]
  },
  {
   "cell_type": "markdown",
   "id": "74f37da4-d6ee-4ebd-b639-864c5d806f31",
   "metadata": {},
   "source": [
    "### Save reconstructions of GAN images"
   ]
  },
  {
   "cell_type": "code",
   "execution_count": 40,
   "id": "ffeb4824-67b9-4d02-a364-aa1660853792",
   "metadata": {},
   "outputs": [
    {
     "name": "stderr",
     "output_type": "stream",
     "text": [
      "100%|██████████| 16/16 [00:08<00:00,  1.83it/s]\n"
     ]
    }
   ],
   "source": [
    "folder_path = \"gan_outputs\"\n",
    "batch_size=64\n",
    "dataset = CelebADataset(folder_path=folder_path, transform=transform)\n",
    "dataloader = DataLoader(dataset, batch_size=batch_size, shuffle=False, num_workers=num_cpus)\n",
    "\n",
    "# Create an output directory if it doesn't exist\n",
    "output_dir2 = f\"reconstructed_images_{latent_dim}_dim_gan\"\n",
    "os.makedirs(output_dir2, exist_ok=True)\n",
    "\n",
    "# Iterate over the training set with tqdm for progress bar\n",
    "with torch.no_grad():  # Disable gradient computation for inference\n",
    "    for i, images in tqdm(enumerate(dataloader), total=len(dataloader)):\n",
    "        images = images.to(device)  # Move images to device (GPU/CPU)\n",
    "\n",
    "        reconstructed_images, _, _ = model(images)\n",
    "\n",
    "        for j in range(reconstructed_images.size(0)):  # Iterate over batch size\n",
    "            # Process reconstructed image\n",
    "            reconstructed_image = (reconstructed_images[j] + 1) / 2  # Normalize the reconstructed image\n",
    "            reconstructed_image_pil = to_pil_image(reconstructed_image.cpu())  # Convert to PIL image\n",
    "\n",
    "            # Save reconstructed image\n",
    "            reconstructed_image_pil.save(f\"{output_dir2}/reconstructed_{i * batch_size + j}.png\")\n"
   ]
  },
  {
   "cell_type": "markdown",
   "id": "c568fe5d-7970-4065-b621-afcd776fe988",
   "metadata": {},
   "source": [
    "## GAN Images Reconstructions by the VAE model"
   ]
  },
  {
   "cell_type": "code",
   "execution_count": 48,
   "id": "0f5e87ac-a859-41ca-bddc-0dc64f1d6f6c",
   "metadata": {
    "tags": []
   },
   "outputs": [
    {
     "data": {
      "image/png": "[encoded data removed]",
      "text/plain": [
       "<Figure size 600x300 with 2 Axes>"
      ]
     },
     "metadata": {},
     "output_type": "display_data"
    }
   ],
   "source": [
    "i = 579\n",
    "visualize_images(dataset[i], decode_latent_representation(*get_latent_representation(i)))"
   ]
  },
  {
   "cell_type": "markdown",
   "id": "7b45e6dd-5a45-44a4-b5ce-4e7d185c7e42",
   "metadata": {},
   "source": [
    "## FID Calculations"
   ]
  },
  {
   "cell_type": "code",
   "execution_count": 47,
   "id": "a8738b3c-569d-4cca-b41c-cffc04bfa8c8",
   "metadata": {
    "tags": []
   },
   "outputs": [
    {
     "name": "stderr",
     "output_type": "stream",
     "text": [
      "Loading images from celebA_class_dataset/Smiling_Male_Young: 100%|██████████| 20473/20473 [00:29<00:00, 698.98it/s]\n"
     ]
    },
    {
     "name": "stdout",
     "output_type": "stream",
     "text": [
      "20472 Images\n"
     ]
    },
    {
     "name": "stderr",
     "output_type": "stream",
     "text": [
      "Loading images from reconstructed_images_2048_dim_celeba: 100%|██████████| 20472/20472 [00:15<00:00, 1313.39it/s]\n"
     ]
    },
    {
     "name": "stdout",
     "output_type": "stream",
     "text": [
      "20472 Images\n"
     ]
    },
    {
     "name": "stderr",
     "output_type": "stream",
     "text": [
      "Processing real images: 100%|██████████| 1280/1280 [00:24<00:00, 51.99it/s]\n",
      "Processing generated images: 100%|██████████| 1280/1280 [00:19<00:00, 66.47it/s]\n"
     ]
    },
    {
     "name": "stdout",
     "output_type": "stream",
     "text": [
      "FID Score: 42.561927795410156\n",
      "\n",
      "\n"
     ]
    },
    {
     "name": "stderr",
     "output_type": "stream",
     "text": [
      "Loading images from celebA_class_dataset/Smiling_Male_Young: 100%|██████████| 20473/20473 [00:25<00:00, 818.53it/s]\n"
     ]
    },
    {
     "name": "stdout",
     "output_type": "stream",
     "text": [
      "20472 Images\n"
     ]
    },
    {
     "name": "stderr",
     "output_type": "stream",
     "text": [
      "Loading images from reconstructed_images_2048_dim_gan: 100%|██████████| 1000/1000 [00:01<00:00, 835.38it/s]\n"
     ]
    },
    {
     "name": "stdout",
     "output_type": "stream",
     "text": [
      "1000 Images\n"
     ]
    },
    {
     "name": "stderr",
     "output_type": "stream",
     "text": [
      "Processing real images: 100%|██████████| 1280/1280 [00:37<00:00, 34.53it/s]\n",
      "Processing generated images: 100%|██████████| 63/63 [00:01<00:00, 42.36it/s]\n"
     ]
    },
    {
     "name": "stdout",
     "output_type": "stream",
     "text": [
      "FID Score: 118.50237274169922\n"
     ]
    }
   ],
   "source": [
    "import fid_helper\n",
    "\n",
    "celeba = \"celebA_class_dataset/Smiling_Male_Young\"\n",
    "fid_helper.compute_fid(celeba, output_dir1)\n",
    "\n",
    "print('\\n')\n",
    "\n",
    "fid_helper.compute_fid(celeba, output_dir2);"
   ]
  }
 ],
 "metadata": {
  "kernelspec": {
   "display_name": "SRC_AI",
   "language": "python",
   "name": "src"
  },
  "language_info": {
   "codemirror_mode": {
    "name": "ipython",
    "version": 3
   },
   "file_extension": ".py",
   "mimetype": "text/x-python",
   "name": "python",
   "nbconvert_exporter": "python",
   "pygments_lexer": "ipython3",
   "version": "3.12.7"
  }
 },
 "nbformat": 4,
 "nbformat_minor": 5
}
